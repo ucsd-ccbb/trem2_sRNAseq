{
 "cells": [
  {
   "cell_type": "markdown",
   "metadata": {},
   "source": [
    "# analyze the NASHvsTREM2 comparisons"
   ]
  },
  {
   "cell_type": "code",
   "execution_count": 4,
   "metadata": {},
   "outputs": [],
   "source": [
    "\n",
    "import numpy as np\n",
    "import matplotlib.pyplot as plt\n",
    "import seaborn as sns\n",
    "import networkx as nx\n",
    "import pandas as pd\n",
    "import random\n",
    "\n",
    "from IPython.display import display\n",
    "\n",
    "# latex rendering of text in graphs\n",
    "import matplotlib as mpl\n",
    "mpl.rc('text', usetex = False)\n",
    "mpl.rc('font', family = 'serif')\n",
    "\n",
    "import matplotlib as mpl\n",
    "mpl.rcParams['pdf.fonttype'] = 42\n",
    "mpl.rcParams['ps.fonttype'] = 42\n",
    "\n",
    "from matplotlib import rcParams\n",
    "rcParams['font.family'] = 'sans-serif'\n",
    "rcParams['font.sans-serif'] = ['Arial']\n",
    "\n",
    "sns.set(font_scale=1.5)\n",
    "\n",
    "sns.set_style('white')\n",
    "\n",
    "sns.set_style(\"ticks\", {\"xtick.major.size\": 15, \"ytick.major.size\": 15})\n",
    "plt.rcParams['svg.fonttype'] = 'none'\n",
    "\n",
    "import sys\n",
    "\n",
    "# % matplotlib inline"
   ]
  },
  {
   "cell_type": "markdown",
   "metadata": {},
   "source": [
    "# loop over comparisons and summarize number significant up and down regulated genes"
   ]
  },
  {
   "cell_type": "code",
   "execution_count": 6,
   "metadata": {},
   "outputs": [
    {
     "name": "stdout",
     "output_type": "stream",
     "text": [
      "0\n",
      "1\n",
      "2\n",
      "5\n",
      "8\n",
      "15\n"
     ]
    },
    {
     "data": {
      "image/png": "[encoded data removed]",
      "text/plain": [
       "<Figure size 288x288 with 1 Axes>"
      ]
     },
     "metadata": {},
     "output_type": "display_data"
    }
   ],
   "source": [
    "import os\n",
    "focal_comp = 'Foz_wk12.vs.Foz_R8'\n",
    "\n",
    "DE_focal_pos = pd.DataFrame()\n",
    "DE_focal_neg = pd.DataFrame()\n",
    "focal_clusters = [0,1,2,5,8,15]\n",
    "for focal_cluster in focal_clusters:\n",
    "    print(focal_cluster)\n",
    "    fname = 'NASHvsREG_macrophage_clusters/'+focal_comp+'.cluster'+str(focal_cluster)+'.csv'\n",
    "    if os.path.isfile(fname):\n",
    "        DE_focal = pd.read_csv(fname,\n",
    "                              sep=',',index_col='Unnamed: 0')\n",
    "        DE_focal['Gene']=DE_focal.index.tolist()\n",
    "        DE_focal.index=DE_focal['Gene']\n",
    "        DE_focal=DE_focal[DE_focal['p_val_adj']<0.05]\n",
    "        DE_pos = pd.DataFrame(DE_focal['avg_log2FC']>0)*1.0\n",
    "        DE_pos.columns=['upregulated']\n",
    "\n",
    "        DE_neg = pd.DataFrame(DE_focal['avg_log2FC']<0)*1.0\n",
    "        DE_neg.columns=['downregulated']\n",
    "\n",
    "    else:\n",
    "        DE_pos = pd.DataFrame(columns=['upregulated'])\n",
    "        DE_neg = pd.DataFrame(columns=['downregulated'])\n",
    "    DE_focal_pos=DE_focal_pos.join(DE_pos,rsuffix='_'+str(focal_cluster),how='outer')\n",
    "    DE_focal_neg=DE_focal_neg.join(DE_neg,rsuffix='_'+str(focal_cluster),how='outer')\n",
    "DE_focal_pos=DE_focal_pos.fillna(0)\n",
    "DE_focal_pos.head()\n",
    "\n",
    "DE_focal_neg=DE_focal_neg.fillna(0)\n",
    "DE_focal_neg.head()\n",
    "\n",
    "num_upregulated = DE_focal_pos.sum()\n",
    "num_downregulated = DE_focal_neg.sum()\n",
    "\n",
    "# plt.figure(figsize=(4,4))\n",
    "# plt.barh(np.arange(len(num_upregulated)),num_upregulated.tolist(),color='r',alpha=.5,\n",
    "#         label='upregulated')\n",
    "# plt.barh(np.arange(len(num_downregulated)),[-x for x in num_downregulated.tolist()],color='b',alpha=.5,\n",
    "#         label='downregulated')\n",
    "# tmp=plt.yticks(np.arange(len(num_upregulated)),['cluster '+str(i) for i in focal_clusters])\n",
    "# plt.xlabel('number of genes')\n",
    "# plt.legend(fontsize=13)\n",
    "# plt.title(focal_comp)\n",
    "\n",
    "# 7/13/23: soura requested to flip the sign of the comparison\n",
    "plt.figure(figsize=(4,4))\n",
    "plt.barh(np.arange(len(num_downregulated)),num_downregulated.tolist(),color='r',alpha=.5,\n",
    "        label='upregulated')\n",
    "plt.barh(np.arange(len(num_upregulated)),[-x for x in num_upregulated.tolist()],color='b',alpha=.5,\n",
    "        label='downregulated')\n",
    "tmp=plt.yticks(np.arange(len(num_upregulated)),['cluster '+str(i) for i in focal_clusters])\n",
    "plt.xlabel('number of genes')\n",
    "plt.legend(fontsize=13)\n",
    "plt.title('Foz_R8.vs.Foz_wk12')\n",
    "\n",
    "plt.savefig('figures/Foz_R8.vs.Foz_wk12_num_genes_per_cluster.pdf',dpi=300,bbox_inches='tight')"
   ]
  },
  {
   "cell_type": "code",
   "execution_count": 10,
   "metadata": {},
   "outputs": [
    {
     "data": {
      "text/html": [
       "<div>\n",
       "<style scoped>\n",
       "    .dataframe tbody tr th:only-of-type {\n",
       "        vertical-align: middle;\n",
       "    }\n",
       "\n",
       "    .dataframe tbody tr th {\n",
       "        vertical-align: top;\n",
       "    }\n",
       "\n",
       "    .dataframe thead th {\n",
       "        text-align: right;\n",
       "    }\n",
       "</style>\n",
       "<table border=\"1\" class=\"dataframe\">\n",
       "  <thead>\n",
       "    <tr style=\"text-align: right;\">\n",
       "      <th></th>\n",
       "      <th>p_val</th>\n",
       "      <th>avg_log2FC</th>\n",
       "      <th>pct.1</th>\n",
       "      <th>pct.2</th>\n",
       "      <th>p_val_adj</th>\n",
       "    </tr>\n",
       "  </thead>\n",
       "  <tbody>\n",
       "    <tr>\n",
       "      <th>H2-Aa</th>\n",
       "      <td>7.894308e-07</td>\n",
       "      <td>-2.212429</td>\n",
       "      <td>0.95</td>\n",
       "      <td>1.000</td>\n",
       "      <td>0.013859</td>\n",
       "    </tr>\n",
       "    <tr>\n",
       "      <th>Cd74</th>\n",
       "      <td>7.894308e-07</td>\n",
       "      <td>-2.066473</td>\n",
       "      <td>0.95</td>\n",
       "      <td>1.000</td>\n",
       "      <td>0.013859</td>\n",
       "    </tr>\n",
       "    <tr>\n",
       "      <th>H2-Eb1</th>\n",
       "      <td>1.813765e-06</td>\n",
       "      <td>-2.270120</td>\n",
       "      <td>0.90</td>\n",
       "      <td>1.000</td>\n",
       "      <td>0.031842</td>\n",
       "    </tr>\n",
       "    <tr>\n",
       "      <th>H2-Ab1</th>\n",
       "      <td>5.698753e-06</td>\n",
       "      <td>-2.094208</td>\n",
       "      <td>0.95</td>\n",
       "      <td>1.000</td>\n",
       "      <td>0.100047</td>\n",
       "    </tr>\n",
       "    <tr>\n",
       "      <th>1110008F13Rik</th>\n",
       "      <td>9.889606e-06</td>\n",
       "      <td>0.788902</td>\n",
       "      <td>1.00</td>\n",
       "      <td>0.917</td>\n",
       "      <td>0.173622</td>\n",
       "    </tr>\n",
       "  </tbody>\n",
       "</table>\n",
       "</div>"
      ],
      "text/plain": [
       "                      p_val  avg_log2FC  pct.1  pct.2  p_val_adj\n",
       "H2-Aa          7.894308e-07   -2.212429   0.95  1.000   0.013859\n",
       "Cd74           7.894308e-07   -2.066473   0.95  1.000   0.013859\n",
       "H2-Eb1         1.813765e-06   -2.270120   0.90  1.000   0.031842\n",
       "H2-Ab1         5.698753e-06   -2.094208   0.95  1.000   0.100047\n",
       "1110008F13Rik  9.889606e-06    0.788902   1.00  0.917   0.173622"
      ]
     },
     "execution_count": 10,
     "metadata": {},
     "output_type": "execute_result"
    }
   ],
   "source": [
    "DE_focal.head()"
   ]
  },
  {
   "cell_type": "code",
   "execution_count": null,
   "metadata": {},
   "outputs": [],
   "source": []
  }
 ],
 "metadata": {
  "kernelspec": {
   "display_name": "Python 3",
   "language": "python",
   "name": "python3"
  },
  "language_info": {
   "codemirror_mode": {
    "name": "ipython",
    "version": 3
   },
   "file_extension": ".py",
   "mimetype": "text/x-python",
   "name": "python",
   "nbconvert_exporter": "python",
   "pygments_lexer": "ipython3",
   "version": "3.7.4"
  }
 },
 "nbformat": 4,
 "nbformat_minor": 4
}
